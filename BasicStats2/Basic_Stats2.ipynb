{
  "nbformat": 4,
  "nbformat_minor": 0,
  "metadata": {
    "colab": {
      "name": "Basic Stats2.ipynb",
      "provenance": []
    },
    "kernelspec": {
      "name": "python3",
      "display_name": "Python 3"
    },
    "language_info": {
      "name": "python"
    }
  },
  "cells": [
    {
      "cell_type": "code",
      "metadata": {
        "id": "JOZbEkRks849"
      },
      "source": [
        "import pandas as pd \n",
        "import numpy as np\n",
        "import matplotlib.pyplot as plt\n",
        "import seaborn as sns"
      ],
      "execution_count": null,
      "outputs": []
    },
    {
      "cell_type": "code",
      "metadata": {
        "colab": {
          "base_uri": "https://localhost:8080/",
          "height": 520
        },
        "id": "AubJ0fadtI0N",
        "outputId": "840e830d-e4be-4ae0-aa3a-40515450dc11"
      },
      "source": [
        "df=pd.DataFrame({'Name of Company':['Allied Signal','Bankers Trust' ,'General Mills ',\n",
        "                                    'ITT Industries','J.P.Morgan &amp','Lehman Brothers',\n",
        "                                    'Marriott','MCI ','Merrill Lynch','Microsoft',\n",
        "                                    'Morgan Stanley','Sun Microsystems','Travelers',\n",
        "                                    'US Airways','Warner-Lambert'],\n",
        "                 'Measure X':[24.23,25.53,25.41,24.14,29.62,28.25,\n",
        "                              25.81,24.39,40.26,32.95,91.36,25.99,\n",
        "                              39.42,26.71,35.00]})\n",
        "df"
      ],
      "execution_count": null,
      "outputs": [
        {
          "output_type": "execute_result",
          "data": {
            "text/html": [
              "<div>\n",
              "<style scoped>\n",
              "    .dataframe tbody tr th:only-of-type {\n",
              "        vertical-align: middle;\n",
              "    }\n",
              "\n",
              "    .dataframe tbody tr th {\n",
              "        vertical-align: top;\n",
              "    }\n",
              "\n",
              "    .dataframe thead th {\n",
              "        text-align: right;\n",
              "    }\n",
              "</style>\n",
              "<table border=\"1\" class=\"dataframe\">\n",
              "  <thead>\n",
              "    <tr style=\"text-align: right;\">\n",
              "      <th></th>\n",
              "      <th>Name of Company</th>\n",
              "      <th>Measure X</th>\n",
              "    </tr>\n",
              "  </thead>\n",
              "  <tbody>\n",
              "    <tr>\n",
              "      <th>0</th>\n",
              "      <td>Allied Signal</td>\n",
              "      <td>24.23</td>\n",
              "    </tr>\n",
              "    <tr>\n",
              "      <th>1</th>\n",
              "      <td>Bankers Trust</td>\n",
              "      <td>25.53</td>\n",
              "    </tr>\n",
              "    <tr>\n",
              "      <th>2</th>\n",
              "      <td>General Mills</td>\n",
              "      <td>25.41</td>\n",
              "    </tr>\n",
              "    <tr>\n",
              "      <th>3</th>\n",
              "      <td>ITT Industries</td>\n",
              "      <td>24.14</td>\n",
              "    </tr>\n",
              "    <tr>\n",
              "      <th>4</th>\n",
              "      <td>J.P.Morgan &amp;amp</td>\n",
              "      <td>29.62</td>\n",
              "    </tr>\n",
              "    <tr>\n",
              "      <th>5</th>\n",
              "      <td>Lehman Brothers</td>\n",
              "      <td>28.25</td>\n",
              "    </tr>\n",
              "    <tr>\n",
              "      <th>6</th>\n",
              "      <td>Marriott</td>\n",
              "      <td>25.81</td>\n",
              "    </tr>\n",
              "    <tr>\n",
              "      <th>7</th>\n",
              "      <td>MCI</td>\n",
              "      <td>24.39</td>\n",
              "    </tr>\n",
              "    <tr>\n",
              "      <th>8</th>\n",
              "      <td>Merrill Lynch</td>\n",
              "      <td>40.26</td>\n",
              "    </tr>\n",
              "    <tr>\n",
              "      <th>9</th>\n",
              "      <td>Microsoft</td>\n",
              "      <td>32.95</td>\n",
              "    </tr>\n",
              "    <tr>\n",
              "      <th>10</th>\n",
              "      <td>Morgan Stanley</td>\n",
              "      <td>91.36</td>\n",
              "    </tr>\n",
              "    <tr>\n",
              "      <th>11</th>\n",
              "      <td>Sun Microsystems</td>\n",
              "      <td>25.99</td>\n",
              "    </tr>\n",
              "    <tr>\n",
              "      <th>12</th>\n",
              "      <td>Travelers</td>\n",
              "      <td>39.42</td>\n",
              "    </tr>\n",
              "    <tr>\n",
              "      <th>13</th>\n",
              "      <td>US Airways</td>\n",
              "      <td>26.71</td>\n",
              "    </tr>\n",
              "    <tr>\n",
              "      <th>14</th>\n",
              "      <td>Warner-Lambert</td>\n",
              "      <td>35.00</td>\n",
              "    </tr>\n",
              "  </tbody>\n",
              "</table>\n",
              "</div>"
            ],
            "text/plain": [
              "     Name of Company  Measure X\n",
              "0      Allied Signal      24.23\n",
              "1      Bankers Trust      25.53\n",
              "2     General Mills       25.41\n",
              "3     ITT Industries      24.14\n",
              "4    J.P.Morgan &amp      29.62\n",
              "5    Lehman Brothers      28.25\n",
              "6           Marriott      25.81\n",
              "7               MCI       24.39\n",
              "8      Merrill Lynch      40.26\n",
              "9          Microsoft      32.95\n",
              "10    Morgan Stanley      91.36\n",
              "11  Sun Microsystems      25.99\n",
              "12         Travelers      39.42\n",
              "13        US Airways      26.71\n",
              "14    Warner-Lambert      35.00"
            ]
          },
          "metadata": {},
          "execution_count": 5
        }
      ]
    },
    {
      "cell_type": "code",
      "metadata": {
        "colab": {
          "base_uri": "https://localhost:8080/",
          "height": 270
        },
        "id": "oGyg1G0bu-oe",
        "outputId": "df299568-cdb6-4b8a-aa05-47fbd3e26b59"
      },
      "source": [
        "sns.boxplot(y='Measure X',data=df)\n",
        "print(\"       \"+\"##Here the outlier is:Morgan Stanley##\")"
      ],
      "execution_count": null,
      "outputs": [
        {
          "output_type": "stream",
          "name": "stdout",
          "text": [
            "       ##Here the outlier is:Morgan Stanley##\n"
          ]
        },
        {
          "output_type": "display_data",
          "data": {
            "image/png": "[encoded data removed]",
            "text/plain": [
              "<Figure size 432x288 with 1 Axes>"
            ]
          },
          "metadata": {
            "needs_background": "light"
          }
        }
      ]
    },
    {
      "cell_type": "code",
      "metadata": {
        "colab": {
          "base_uri": "https://localhost:8080/",
          "height": 338
        },
        "id": "xa1rgYNGvxGe",
        "outputId": "a3b3b6d5-a205-454d-cd23-b1b5bbb7c5a8"
      },
      "source": [
        "plt.hist(x=df['Measure X'],edgecolor='w',bins=10)"
      ],
      "execution_count": null,
      "outputs": [
        {
          "output_type": "execute_result",
          "data": {
            "text/plain": [
              "(array([10.,  2.,  2.,  0.,  0.,  0.,  0.,  0.,  0.,  1.]),\n",
              " array([24.14 , 30.862, 37.584, 44.306, 51.028, 57.75 , 64.472, 71.194,\n",
              "        77.916, 84.638, 91.36 ]),\n",
              " <a list of 10 Patch objects>)"
            ]
          },
          "metadata": {},
          "execution_count": 14
        },
        {
          "output_type": "display_data",
          "data": {
            "image/png": "[encoded data removed]",
            "text/plain": [
              "<Figure size 432x288 with 1 Axes>"
            ]
          },
          "metadata": {
            "needs_background": "light"
          }
        }
      ]
    },
    {
      "cell_type": "code",
      "metadata": {
        "colab": {
          "base_uri": "https://localhost:8080/"
        },
        "id": "4ocLbVi4wTdF",
        "outputId": "58ba9c64-9cd3-4b22-ac41-c40714d19b6c"
      },
      "source": [
        "df['Measure X'].std()"
      ],
      "execution_count": null,
      "outputs": [
        {
          "output_type": "execute_result",
          "data": {
            "text/plain": [
              "16.945400921222028"
            ]
          },
          "metadata": {},
          "execution_count": 17
        }
      ]
    },
    {
      "cell_type": "code",
      "metadata": {
        "colab": {
          "base_uri": "https://localhost:8080/"
        },
        "id": "lqM-xoc1wLKO",
        "outputId": "a5f830d0-213d-4b3d-d535-f7470f573498"
      },
      "source": [
        "df['Measure X'].mean()"
      ],
      "execution_count": null,
      "outputs": [
        {
          "output_type": "execute_result",
          "data": {
            "text/plain": [
              "33.27133333333333"
            ]
          },
          "metadata": {},
          "execution_count": 15
        }
      ]
    },
    {
      "cell_type": "code",
      "metadata": {
        "colab": {
          "base_uri": "https://localhost:8080/"
        },
        "id": "IHmCameWwTff",
        "outputId": "74d7a227-1537-44ae-8267-422f84eb99da"
      },
      "source": [
        "df['Measure X'].var()"
      ],
      "execution_count": null,
      "outputs": [
        {
          "output_type": "execute_result",
          "data": {
            "text/plain": [
              "287.1466123809524"
            ]
          },
          "metadata": {},
          "execution_count": 18
        }
      ]
    },
    {
      "cell_type": "markdown",
      "metadata": {
        "id": "onzEMhQYhtAE"
      },
      "source": [
        "## Basic Stats2 -**SET2**"
      ]
    },
    {
      "cell_type": "code",
      "metadata": {
        "id": "bQT7PhUgbClN"
      },
      "source": [
        "from scipy import stats"
      ],
      "execution_count": null,
      "outputs": []
    },
    {
      "cell_type": "code",
      "metadata": {
        "colab": {
          "base_uri": "https://localhost:8080/"
        },
        "id": "2O8R5LiLbUcF",
        "outputId": "c9d00945-981d-4894-846d-f857c8eda372"
      },
      "source": [
        "meet_his_commitment=stats.norm.cdf(50,45,8)\n",
        "meet_his_commitment"
      ],
      "execution_count": null,
      "outputs": [
        {
          "output_type": "execute_result",
          "data": {
            "text/plain": [
              "0.7340144709512995"
            ]
          },
          "metadata": {},
          "execution_count": 7
        }
      ]
    },
    {
      "cell_type": "code",
      "metadata": {
        "colab": {
          "base_uri": "https://localhost:8080/"
        },
        "id": "0J2OLDafb019",
        "outputId": "f7831c1d-c17d-441b-838f-c67321c2f915"
      },
      "source": [
        "cannot_meet_his_commitments=1-meet_his_commitment\n",
        "cannot_meet_his_commitments*100"
      ],
      "execution_count": null,
      "outputs": [
        {
          "output_type": "execute_result",
          "data": {
            "text/plain": [
              "26.598552904870054"
            ]
          },
          "metadata": {},
          "execution_count": 10
        }
      ]
    },
    {
      "cell_type": "code",
      "metadata": {
        "id": "KfjBbyClgseV"
      },
      "source": [
        "from scipy import stats\n",
        "# A. More employees at the processing center are older than 44 than between 38 and 44.\n",
        "# p(X>44); Employees older than 44 yrs of age\n"
      ],
      "execution_count": null,
      "outputs": []
    },
    {
      "cell_type": "code",
      "metadata": {
        "colab": {
          "base_uri": "https://localhost:8080/"
        },
        "id": "VTQooQDzoh7b",
        "outputId": "a43a6c55-e732-411b-e896-4bda7478a4a3"
      },
      "source": [
        "# p(X>44); Employees older than 44 yrs of age\n",
        "1-stats.norm.cdf(44,loc=38,scale=6)\n"
      ],
      "execution_count": null,
      "outputs": [
        {
          "output_type": "execute_result",
          "data": {
            "text/plain": [
              "0.15865525393145707"
            ]
          },
          "metadata": {},
          "execution_count": 15
        }
      ]
    },
    {
      "cell_type": "markdown",
      "metadata": {
        "id": "OTfQWfrUpGCr"
      },
      "source": [
        "## ***15.86%*** are people above the age of 44"
      ]
    },
    {
      "cell_type": "code",
      "metadata": {
        "colab": {
          "base_uri": "https://localhost:8080/"
        },
        "id": "kEBPDdodork6",
        "outputId": "1e90ab21-a707-47db-ef79-25845825b61b"
      },
      "source": [
        "# p(38<X<44); Employees between 38 to 44 yrs of age\n",
        "stats.norm.cdf(44,38,6)-stats.norm.cdf(38,38,6)\n"
      ],
      "execution_count": null,
      "outputs": [
        {
          "output_type": "execute_result",
          "data": {
            "text/plain": [
              "0.3413447460685429"
            ]
          },
          "metadata": {},
          "execution_count": 16
        }
      ]
    },
    {
      "cell_type": "markdown",
      "metadata": {
        "id": "GnEIHe-cpcCC"
      },
      "source": [
        "# **34.13%** are people above the age of 38 and 44 \n",
        "\n",
        "So,**statement 1** is false"
      ]
    },
    {
      "cell_type": "code",
      "metadata": {
        "id": "gRfz7UOlp_wC"
      },
      "source": [
        "# B. A training program for employees under the age of 30 at the center would be expected "
      ],
      "execution_count": null,
      "outputs": []
    },
    {
      "cell_type": "code",
      "metadata": {
        "colab": {
          "base_uri": "https://localhost:8080/"
        },
        "id": "zynUmTJzqEgi",
        "outputId": "e2d37cd5-e2cf-4628-c9cb-e12bf3f695b5"
      },
      "source": [
        "# P(X<30); Employees under 30 yrs of age\n",
        "stats.norm.cdf(30,38,6)"
      ],
      "execution_count": null,
      "outputs": [
        {
          "output_type": "execute_result",
          "data": {
            "text/plain": [
              "0.09121121972586788"
            ]
          },
          "metadata": {},
          "execution_count": 18
        }
      ]
    },
    {
      "cell_type": "code",
      "metadata": {
        "colab": {
          "base_uri": "https://localhost:8080/"
        },
        "id": "j4qWuBAcqMCB",
        "outputId": "c852ce90-3d91-4b53-e8f0-015f377cb502"
      },
      "source": [
        "# No. of employees attending training program from 400 nos. is N*P(X<30)\n",
        "400*stats.norm.cdf(30,38,6)"
      ],
      "execution_count": null,
      "outputs": [
        {
          "output_type": "execute_result",
          "data": {
            "text/plain": [
              "36.484487890347154"
            ]
          },
          "metadata": {},
          "execution_count": 19
        }
      ]
    },
    {
      "cell_type": "markdown",
      "metadata": {
        "id": "8aqWGg0Xqmlz"
      },
      "source": [
        "i.e 36 people are below the age of 30. So **statement 2** is true"
      ]
    },
    {
      "cell_type": "markdown",
      "metadata": {
        "id": "L1ZA9Z96ugn5"
      },
      "source": [
        "4)Let X ~ N(100, 20 2 ). Find two values, a and b, symmetric about the mean, such that the\n",
        "probability of the random variable taking a value between them is 0.99. \n",
        "\n",
        "A. 90.5, 105.9\n",
        "\n",
        "B. 80.2, 119.8\n",
        "\n",
        "C. 22, 78\n",
        "\n",
        "D. 48.5, 151.5\n",
        "\n",
        "E. 90.1, 109.9"
      ]
    },
    {
      "cell_type": "code",
      "metadata": {
        "colab": {
          "base_uri": "https://localhost:8080/"
        },
        "id": "SaLGnRMkuZbk",
        "outputId": "bd26e962-e123-4375-c28c-9d7b2ca2542d"
      },
      "source": [
        "a=1-0.99\n",
        "a"
      ],
      "execution_count": null,
      "outputs": [
        {
          "output_type": "execute_result",
          "data": {
            "text/plain": [
              "0.010000000000000009"
            ]
          },
          "metadata": {},
          "execution_count": 23
        }
      ]
    },
    {
      "cell_type": "code",
      "metadata": {
        "colab": {
          "base_uri": "https://localhost:8080/"
        },
        "id": "gN8UNiBRu7Da",
        "outputId": "fe63d288-69c2-4955-e960-858ac514c6fa"
      },
      "source": [
        "a/2"
      ],
      "execution_count": null,
      "outputs": [
        {
          "output_type": "execute_result",
          "data": {
            "text/plain": [
              "0.0050000000000000044"
            ]
          },
          "metadata": {},
          "execution_count": 24
        }
      ]
    },
    {
      "cell_type": "code",
      "metadata": {
        "colab": {
          "base_uri": "https://localhost:8080/"
        },
        "id": "EdKhljT7wBJK",
        "outputId": "d3642fd5-58ea-47d8-ad50-ef11a18fdf36"
      },
      "source": [
        "#z values corresponding to 0.005\n",
        "stats.norm.ppf(0.005)"
      ],
      "execution_count": null,
      "outputs": [
        {
          "output_type": "execute_result",
          "data": {
            "text/plain": [
              "-2.575829303548901"
            ]
          },
          "metadata": {},
          "execution_count": 25
        }
      ]
    },
    {
      "cell_type": "code",
      "metadata": {
        "colab": {
          "base_uri": "https://localhost:8080/"
        },
        "id": "CWIVmvjvwUX3",
        "outputId": "99964e1b-2294-4da9-f85e-4ce638efcee5"
      },
      "source": [
        "stats.norm.ppf(0.995)"
      ],
      "execution_count": null,
      "outputs": [
        {
          "output_type": "execute_result",
          "data": {
            "text/plain": [
              "2.5758293035489004"
            ]
          },
          "metadata": {},
          "execution_count": 27
        }
      ]
    },
    {
      "cell_type": "code",
      "metadata": {
        "colab": {
          "base_uri": "https://localhost:8080/"
        },
        "id": "nUpqWwSpwZox",
        "outputId": "acf125f5-4df7-4eab-b565-7b17384447be"
      },
      "source": [
        "#from z table finding x1 and x2 =Z * σ + μ we got the equation from Z=x-μ/σ\n",
        "print(\"x1 is:\",(-2.57*20)+100)\n",
        "\n"
      ],
      "execution_count": null,
      "outputs": [
        {
          "output_type": "stream",
          "name": "stdout",
          "text": [
            "x1 is: 48.6\n"
          ]
        }
      ]
    },
    {
      "cell_type": "code",
      "metadata": {
        "colab": {
          "base_uri": "https://localhost:8080/"
        },
        "id": "iChrI41dy44Q",
        "outputId": "10c5f107-34d2-4be6-9950-9f7bd5c5d97e"
      },
      "source": [
        "print(\"x1 is:\",(2.57*20)+100)"
      ],
      "execution_count": null,
      "outputs": [
        {
          "output_type": "stream",
          "name": "stdout",
          "text": [
            "x1 is: 151.4\n"
          ]
        }
      ]
    },
    {
      "cell_type": "markdown",
      "metadata": {
        "id": "AlFXGLhB94ou"
      },
      "source": [
        "### **SET 3**"
      ]
    },
    {
      "cell_type": "markdown",
      "metadata": {
        "id": "fnkw8dEPHQ0d"
      },
      "source": [
        "5. In January 2005, a company that monitors Internet traffic (WebSideStory) reported that its sampling revealed that the Mozilla Firefox browser launched in 2004 had grabbed a 4.6% share of the market.\n",
        "I. If the sample were based on 2,000 users, could Microsoft conclude that Mozilla has a less than 5% share of the market?"
      ]
    },
    {
      "cell_type": "code",
      "metadata": {
        "id": "_Q0Vm7Oh9-Os"
      },
      "source": [
        "import numpy as np\n",
        "from scipy import stats\n",
        "from scipy.stats import norm"
      ],
      "execution_count": null,
      "outputs": []
    },
    {
      "cell_type": "code",
      "metadata": {
        "id": "8JHejHvnHWPA"
      },
      "source": [
        "# Calculate Z-Score or value z_scores= ()"
      ],
      "execution_count": null,
      "outputs": []
    },
    {
      "cell_type": "code",
      "metadata": {
        "colab": {
          "base_uri": "https://localhost:8080/"
        },
        "id": "WrRweO7GHWJ7",
        "outputId": "bfc42c24-4bb5-4216-d2d5-51a5afc4449d"
      },
      "source": [
        "z_scores=(0.046-0.05)/(np.sqrt((0.05*(1-0.05))/2000))\n",
        "z_scores"
      ],
      "execution_count": null,
      "outputs": [
        {
          "output_type": "execute_result",
          "data": {
            "text/plain": [
              "-0.820782681668124"
            ]
          },
          "metadata": {},
          "execution_count": 38
        }
      ]
    },
    {
      "cell_type": "code",
      "metadata": {
        "id": "B1ivLrbmHaQ9"
      },
      "source": [
        "# Find probability assuming null hyposthesis, sa as to compare with Type-1 error Alpha=0.05 "
      ],
      "execution_count": null,
      "outputs": []
    },
    {
      "cell_type": "code",
      "metadata": {
        "colab": {
          "base_uri": "https://localhost:8080/"
        },
        "id": "tZMJ9YC1HcS0",
        "outputId": "13af95b2-113b-453b-d880-3d4da6876159"
      },
      "source": [
        "p_value=1-stats.norm.cdf(abs(z_scores))\n",
        "p_value"
      ],
      "execution_count": null,
      "outputs": [
        {
          "output_type": "execute_result",
          "data": {
            "text/plain": [
              "0.20588503245107104"
            ]
          },
          "metadata": {},
          "execution_count": 40
        }
      ]
    },
    {
      "cell_type": "markdown",
      "metadata": {
        "id": "CVRfUrpWKeEe"
      },
      "source": [
        "8. How many randomly selected employers (minimum number) must we contact in\n",
        "order to guarantee a margin of error of no more than 4% (at 95% confidence)?\n",
        "\n",
        "A. 600\n",
        "\n",
        "B. 400\n",
        "\n",
        "C. 550\n",
        "\n",
        "D. 1000"
      ]
    },
    {
      "cell_type": "code",
      "metadata": {
        "colab": {
          "base_uri": "https://localhost:8080/"
        },
        "id": "2Q-XHbojKjmR",
        "outputId": "f2095a5c-cf52-4ac0-9232-255243c0358e"
      },
      "source": [
        "stats.norm.ppf(.025)"
      ],
      "execution_count": null,
      "outputs": [
        {
          "output_type": "execute_result",
          "data": {
            "text/plain": [
              "-1.9599639845400545"
            ]
          },
          "metadata": {},
          "execution_count": 41
        }
      ]
    },
    {
      "cell_type": "code",
      "metadata": {
        "colab": {
          "base_uri": "https://localhost:8080/"
        },
        "id": "QoWa6SYTKrdw",
        "outputId": "b203c8fb-6b4f-4352-a40d-dde7fd1dd7e6"
      },
      "source": [
        "n=(0.5*0.5*(1.96)**2)/(0.4*0.4)\n",
        "n*100"
      ],
      "execution_count": null,
      "outputs": [
        {
          "output_type": "execute_result",
          "data": {
            "text/plain": [
              "600.2499999999999"
            ]
          },
          "metadata": {},
          "execution_count": 43
        }
      ]
    },
    {
      "cell_type": "markdown",
      "metadata": {
        "id": "L25UYuarLjTO"
      },
      "source": [
        "### SET-**4**"
      ]
    },
    {
      "cell_type": "markdown",
      "metadata": {
        "id": "4bd-gz1dLmm-"
      },
      "source": [
        "Auditors at a small community bank randomly sample 100 withdrawal transactions made during the\n",
        "week at an ATM machine located near the bank’s main branch. Over the past 2 years, the average\n",
        "withdrawal amount has been $50 with a standard deviation of $40. Since audit investigations are\n",
        "typically expensive, the auditors decide to not initiate further investigations if the mean transaction\n",
        "amount of the sample is between $45 and $55. What is the probability that in any given week, there\n",
        "will be an investigation?"
      ]
    },
    {
      "cell_type": "code",
      "metadata": {
        "colab": {
          "base_uri": "https://localhost:8080/"
        },
        "id": "_-5avpM5M2KX",
        "outputId": "d47897aa-9701-4c49-9294-f04666b8f2f9"
      },
      "source": [
        "z45=(45-50)/(40/np.sqrt(100))\n",
        "z45"
      ],
      "execution_count": null,
      "outputs": [
        {
          "output_type": "execute_result",
          "data": {
            "text/plain": [
              "-1.25"
            ]
          },
          "metadata": {},
          "execution_count": 44
        }
      ]
    },
    {
      "cell_type": "code",
      "metadata": {
        "colab": {
          "base_uri": "https://localhost:8080/"
        },
        "id": "wlf2MjnuNZvc",
        "outputId": "a56853bf-3b56-4854-d673-f71f717560b5"
      },
      "source": [
        "z55=(55-50)/(40/np.sqrt(100))\n",
        "z55"
      ],
      "execution_count": null,
      "outputs": [
        {
          "output_type": "execute_result",
          "data": {
            "text/plain": [
              "1.25"
            ]
          },
          "metadata": {},
          "execution_count": 46
        }
      ]
    },
    {
      "cell_type": "code",
      "metadata": {
        "colab": {
          "base_uri": "https://localhost:8080/"
        },
        "id": "zvdWscxCNglu",
        "outputId": "6491544e-5a9b-45e5-f843-bcc2aefff453"
      },
      "source": [
        "stats.norm.cdf(1.25)-stats.norm.cdf(-1.25)"
      ],
      "execution_count": null,
      "outputs": [
        {
          "output_type": "execute_result",
          "data": {
            "text/plain": [
              "0.7887004526662893"
            ]
          },
          "metadata": {},
          "execution_count": 48
        }
      ]
    },
    {
      "cell_type": "code",
      "metadata": {
        "colab": {
          "base_uri": "https://localhost:8080/"
        },
        "id": "6Hzwct71Of_8",
        "outputId": "a17fd500-5bd5-4c47-be5c-aad21b4a88c2"
      },
      "source": [
        "stats.norm.interval(0.7887,loc=50,scale=40/np.sqrt(100))"
      ],
      "execution_count": null,
      "outputs": [
        {
          "output_type": "execute_result",
          "data": {
            "text/plain": [
              "(45.00000495667348, 54.99999504332652)"
            ]
          },
          "metadata": {},
          "execution_count": 49
        }
      ]
    },
    {
      "cell_type": "code",
      "metadata": {
        "colab": {
          "base_uri": "https://localhost:8080/"
        },
        "id": "07Rl1SrFO5c3",
        "outputId": "09e41872-54ed-4ef2-c42d-955deed797f9"
      },
      "source": [
        "1-0.7887"
      ],
      "execution_count": null,
      "outputs": [
        {
          "output_type": "execute_result",
          "data": {
            "text/plain": [
              "0.21130000000000004"
            ]
          },
          "metadata": {},
          "execution_count": 50
        }
      ]
    },
    {
      "cell_type": "markdown",
      "metadata": {
        "id": "ga6aw5wTPFYh"
      },
      "source": [
        "The auditors from the above example would like to maintain the probability of investigation to 5%.\n",
        "Which of the following represents the minimum number transactions that they should sample if\n",
        "they do not want to change the thresholds of 45 and 55? Assume that the sample statistics remain unchanged."
      ]
    },
    {
      "cell_type": "code",
      "metadata": {
        "colab": {
          "base_uri": "https://localhost:8080/"
        },
        "id": "eIaweoGqPOwR",
        "outputId": "6fda61d0-0992-4a80-f6ce-718d5710c224"
      },
      "source": [
        "stats.norm.ppf(0.025)"
      ],
      "execution_count": null,
      "outputs": [
        {
          "output_type": "execute_result",
          "data": {
            "text/plain": [
              "-1.9599639845400545"
            ]
          },
          "metadata": {},
          "execution_count": 51
        }
      ]
    },
    {
      "cell_type": "code",
      "metadata": {
        "colab": {
          "base_uri": "https://localhost:8080/"
        },
        "id": "xH1ObvolPaCg",
        "outputId": "3851ecf3-5c2d-4d23-c224-89712e484980"
      },
      "source": [
        "stats.norm.ppf(1-0.025)"
      ],
      "execution_count": null,
      "outputs": [
        {
          "output_type": "execute_result",
          "data": {
            "text/plain": [
              "1.959963984540054"
            ]
          },
          "metadata": {},
          "execution_count": 52
        }
      ]
    },
    {
      "cell_type": "code",
      "metadata": {
        "colab": {
          "base_uri": "https://localhost:8080/"
        },
        "id": "ecFKQF30PZ_r",
        "outputId": "055430b8-d4a1-499f-9b03-dd947cda45e8"
      },
      "source": [
        "#1.96=5*np.sqrt(n)/40\n",
        "#sqrt(n)=15.68\n",
        "n=15.68**2\n",
        "n"
      ],
      "execution_count": null,
      "outputs": [
        {
          "output_type": "execute_result",
          "data": {
            "text/plain": [
              "245.86239999999998"
            ]
          },
          "metadata": {},
          "execution_count": 57
        }
      ]
    }
  ]
}